{
  "nbformat": 4,
  "nbformat_minor": 0,
  "metadata": {
    "colab": {
      "provenance": [],
      "authorship_tag": "ABX9TyM5Bz1ALQQiOZFZFTaGffGI",
      "include_colab_link": true
    },
    "kernelspec": {
      "name": "python3",
      "display_name": "Python 3"
    },
    "language_info": {
      "name": "python"
    }
  },
  "cells": [
    {
      "cell_type": "markdown",
      "metadata": {
        "id": "view-in-github",
        "colab_type": "text"
      },
      "source": [
        "<a href=\"https://colab.research.google.com/github/mikeCode321/FetchMoreLanguageModel/blob/mlp_representation/fetchmore_mlp.ipynb\" target=\"_parent\"><img src=\"https://colab.research.google.com/assets/colab-badge.svg\" alt=\"Open In Colab\"/></a>"
      ]
    },
    {
      "cell_type": "markdown",
      "source": [
        "In this implementation of character level language modeling we will implement the Multi-Layer Perceptron (MLP). Represented by the Journal ->\n",
        "*A Nueral Probabilistic Language Model*   Bengio et al.\n",
        "\n",
        "Although, in this paper the authors do a word level model we will use the same principle, but for character level."
      ],
      "metadata": {
        "id": "sBturjYhX7-W"
      }
    },
    {
      "cell_type": "code",
      "execution_count": 17,
      "metadata": {
        "id": "PzHhwxlRXy44"
      },
      "outputs": [],
      "source": [
        "import torch\n",
        "import torch.nn.functional as F\n",
        "import matplotlib.pyplot as plt\n"
      ]
    },
    {
      "cell_type": "code",
      "source": [
        "words = open('names.txt', 'r').read().splitlines()\n",
        "words[:5]"
      ],
      "metadata": {
        "id": "s4qFeVaiSegW",
        "colab": {
          "base_uri": "https://localhost:8080/"
        },
        "outputId": "a81d8ccc-a049-44c2-e8a9-dfe9ee82561b"
      },
      "execution_count": 18,
      "outputs": [
        {
          "output_type": "execute_result",
          "data": {
            "text/plain": [
              "['emma', 'olivia', 'ava', 'isabella', 'sophia']"
            ]
          },
          "metadata": {},
          "execution_count": 18
        }
      ]
    },
    {
      "cell_type": "code",
      "source": [
        "len(words)"
      ],
      "metadata": {
        "colab": {
          "base_uri": "https://localhost:8080/"
        },
        "id": "CtmJiH7yS3Mj",
        "outputId": "454f62be-b605-4386-8f02-06f50f84042d"
      },
      "execution_count": 19,
      "outputs": [
        {
          "output_type": "execute_result",
          "data": {
            "text/plain": [
              "32033"
            ]
          },
          "metadata": {},
          "execution_count": 19
        }
      ]
    },
    {
      "cell_type": "code",
      "source": [
        "chars = sorted(list(set(''.join(words))))"
      ],
      "metadata": {
        "id": "gPUIh7vUS5HT"
      },
      "execution_count": 20,
      "outputs": []
    },
    {
      "cell_type": "code",
      "source": [
        "stoi = {s:i + 1 for i, s in enumerate(chars)}\n",
        "stoi['.'] = 0\n",
        "itos = {i:s for s, i in stoi.items()}"
      ],
      "metadata": {
        "id": "JhYv539NTAMB"
      },
      "execution_count": 21,
      "outputs": []
    },
    {
      "cell_type": "markdown",
      "source": [
        "The block size specifies the context in a rolling window fashion. Here we are just rolling over the 5 input words and shifting to the left 1 char, until the break char is reached == (.) or 0, inside the stoi mapping."
      ],
      "metadata": {
        "id": "1KXBkmsST-SW"
      }
    },
    {
      "cell_type": "code",
      "source": [
        "block_size = 3\n",
        "\n",
        "X, y = [], []\n",
        "\n",
        "for w in words[:5]:\n",
        "  print(w)\n",
        "  context = [0] * block_size\n",
        "  for ch in w + '.':\n",
        "    ix = stoi[ch]\n",
        "    X.append(context)\n",
        "    y.append(ix)\n",
        "    print(''.join(itos[i] for i in context), '--->', itos[ix])\n",
        "    context = context[1:] + [ix]\n",
        "\n",
        "X = torch.tensor(X)\n",
        "y = torch.tensor(y)"
      ],
      "metadata": {
        "colab": {
          "base_uri": "https://localhost:8080/"
        },
        "collapsed": true,
        "id": "QnkYHBwFTM9C",
        "outputId": "e90a55ef-5a27-48a6-fff1-dcfb139305d3"
      },
      "execution_count": 22,
      "outputs": [
        {
          "output_type": "stream",
          "name": "stdout",
          "text": [
            "emma\n",
            "... ---> e\n",
            "..e ---> m\n",
            ".em ---> m\n",
            "emm ---> a\n",
            "mma ---> .\n",
            "olivia\n",
            "... ---> o\n",
            "..o ---> l\n",
            ".ol ---> i\n",
            "oli ---> v\n",
            "liv ---> i\n",
            "ivi ---> a\n",
            "via ---> .\n",
            "ava\n",
            "... ---> a\n",
            "..a ---> v\n",
            ".av ---> a\n",
            "ava ---> .\n",
            "isabella\n",
            "... ---> i\n",
            "..i ---> s\n",
            ".is ---> a\n",
            "isa ---> b\n",
            "sab ---> e\n",
            "abe ---> l\n",
            "bel ---> l\n",
            "ell ---> a\n",
            "lla ---> .\n",
            "sophia\n",
            "... ---> s\n",
            "..s ---> o\n",
            ".so ---> p\n",
            "sop ---> h\n",
            "oph ---> i\n",
            "phi ---> a\n",
            "hia ---> .\n"
          ]
        }
      ]
    },
    {
      "cell_type": "markdown",
      "source": [
        "X holds the block size representation of Words[i] start with ... or 000.\n",
        "Left shifted per i += 1 with the next chr of Words[i].\n",
        "\n",
        "y holds the block size representation of the target chr after the starting '.' up until the ending '.'"
      ],
      "metadata": {
        "id": "CA_KGvW5huBA"
      }
    },
    {
      "cell_type": "code",
      "source": [
        "X.shape, X.dtype, y.shape, y.dtype"
      ],
      "metadata": {
        "colab": {
          "base_uri": "https://localhost:8080/"
        },
        "id": "SEuR5ELyUTmY",
        "outputId": "a479c545-e795-4624-e165-d5f2ebfe77ec"
      },
      "execution_count": 23,
      "outputs": [
        {
          "output_type": "execute_result",
          "data": {
            "text/plain": [
              "(torch.Size([32, 3]), torch.int64, torch.Size([32]), torch.int64)"
            ]
          },
          "metadata": {},
          "execution_count": 23
        }
      ]
    },
    {
      "cell_type": "code",
      "source": [
        "C = torch.randn((27, 2))"
      ],
      "metadata": {
        "id": "GMJez3Q9UZ1M"
      },
      "execution_count": 24,
      "outputs": []
    },
    {
      "cell_type": "code",
      "source": [
        "emb = C[X[:5]]"
      ],
      "metadata": {
        "id": "yOV5h4k_Ym0v"
      },
      "execution_count": 25,
      "outputs": []
    },
    {
      "cell_type": "code",
      "source": [
        "W1 = torch.randn((6,100))\n",
        "b1 = torch.randn(100)"
      ],
      "metadata": {
        "id": "L1iUDMCQYngo"
      },
      "execution_count": 26,
      "outputs": []
    },
    {
      "cell_type": "code",
      "source": [
        "emb"
      ],
      "metadata": {
        "colab": {
          "base_uri": "https://localhost:8080/"
        },
        "id": "Xe9vl-IYe-mo",
        "outputId": "48c15a7a-3c69-4369-fc37-dc6b3add4310"
      },
      "execution_count": 27,
      "outputs": [
        {
          "output_type": "execute_result",
          "data": {
            "text/plain": [
              "tensor([[[-0.3993, -1.6973],\n",
              "         [-0.3993, -1.6973],\n",
              "         [-0.3993, -1.6973]],\n",
              "\n",
              "        [[-0.3993, -1.6973],\n",
              "         [-0.3993, -1.6973],\n",
              "         [-0.9383,  0.1708]],\n",
              "\n",
              "        [[-0.3993, -1.6973],\n",
              "         [-0.9383,  0.1708],\n",
              "         [ 0.6459, -2.7053]],\n",
              "\n",
              "        [[-0.9383,  0.1708],\n",
              "         [ 0.6459, -2.7053],\n",
              "         [ 0.6459, -2.7053]],\n",
              "\n",
              "        [[ 0.6459, -2.7053],\n",
              "         [ 0.6459, -2.7053],\n",
              "         [-0.8441, -1.2884]]])"
            ]
          },
          "metadata": {},
          "execution_count": 27
        }
      ]
    },
    {
      "cell_type": "code",
      "source": [
        "torch.cat([emb[:,0,:], emb[:,1,:], emb[:,2,:]], 1).shape"
      ],
      "metadata": {
        "colab": {
          "base_uri": "https://localhost:8080/"
        },
        "id": "rjKJaTikZKCc",
        "outputId": "c72c55e5-5528-47c6-ca2d-db8b3693b357"
      },
      "execution_count": 28,
      "outputs": [
        {
          "output_type": "execute_result",
          "data": {
            "text/plain": [
              "torch.Size([5, 6])"
            ]
          },
          "metadata": {},
          "execution_count": 28
        }
      ]
    },
    {
      "cell_type": "code",
      "source": [
        "torch.cat(torch.unbind(emb, 1), 1)"
      ],
      "metadata": {
        "colab": {
          "base_uri": "https://localhost:8080/"
        },
        "id": "aOxo36C5ZLwF",
        "outputId": "1c4e6c6c-c0ad-4b2e-f989-e5b3354f348f"
      },
      "execution_count": 29,
      "outputs": [
        {
          "output_type": "execute_result",
          "data": {
            "text/plain": [
              "tensor([[-0.3993, -1.6973, -0.3993, -1.6973, -0.3993, -1.6973],\n",
              "        [-0.3993, -1.6973, -0.3993, -1.6973, -0.9383,  0.1708],\n",
              "        [-0.3993, -1.6973, -0.9383,  0.1708,  0.6459, -2.7053],\n",
              "        [-0.9383,  0.1708,  0.6459, -2.7053,  0.6459, -2.7053],\n",
              "        [ 0.6459, -2.7053,  0.6459, -2.7053, -0.8441, -1.2884]])"
            ]
          },
          "metadata": {},
          "execution_count": 29
        }
      ]
    },
    {
      "cell_type": "code",
      "source": [
        "emb.view(emb.shape[0], 6) ## better solution for flattening emb of each context"
      ],
      "metadata": {
        "colab": {
          "base_uri": "https://localhost:8080/"
        },
        "id": "T6mEn0aXgSSi",
        "outputId": "a4c8ffe6-107b-4d29-d823-ce566906e699"
      },
      "execution_count": 30,
      "outputs": [
        {
          "output_type": "execute_result",
          "data": {
            "text/plain": [
              "tensor([[-0.3993, -1.6973, -0.3993, -1.6973, -0.3993, -1.6973],\n",
              "        [-0.3993, -1.6973, -0.3993, -1.6973, -0.9383,  0.1708],\n",
              "        [-0.3993, -1.6973, -0.9383,  0.1708,  0.6459, -2.7053],\n",
              "        [-0.9383,  0.1708,  0.6459, -2.7053,  0.6459, -2.7053],\n",
              "        [ 0.6459, -2.7053,  0.6459, -2.7053, -0.8441, -1.2884]])"
            ]
          },
          "metadata": {},
          "execution_count": 30
        }
      ]
    },
    {
      "cell_type": "code",
      "source": [
        "emb.view(emb.shape[0], 6) @ W1"
      ],
      "metadata": {
        "colab": {
          "base_uri": "https://localhost:8080/"
        },
        "id": "o6vzqUnMij1_",
        "outputId": "45d3badc-6645-4b57-b7e9-b1416f103d6b"
      },
      "execution_count": 31,
      "outputs": [
        {
          "output_type": "execute_result",
          "data": {
            "text/plain": [
              "tensor([[-1.4847e+00,  3.0064e+00,  3.9331e+00,  2.1541e+00,  3.9022e-01,\n",
              "          4.9682e+00,  3.7227e+00,  3.8095e+00,  3.8988e+00, -3.0796e+00,\n",
              "          1.9072e-01,  2.3525e+00, -2.7478e-01, -1.1345e+00,  2.4046e+00,\n",
              "          2.0272e+00, -6.2726e+00, -2.1653e+00, -1.1891e+00, -7.2387e-01,\n",
              "         -2.4998e+00, -5.3188e+00, -3.0440e+00,  2.0018e+00,  3.0805e+00,\n",
              "          1.7814e+00,  6.8033e+00, -9.0554e-01, -3.4720e+00, -1.5319e+00,\n",
              "          1.3131e+00, -1.1086e+00,  3.9287e+00, -6.0228e+00,  7.7642e-01,\n",
              "          3.6255e+00,  5.5505e+00, -2.6317e+00,  3.1869e+00, -2.2426e+00,\n",
              "         -6.5776e-01, -4.1246e+00, -1.5296e+00,  1.9149e+00, -2.7038e+00,\n",
              "          4.1630e+00, -4.7200e+00, -1.5004e-01, -7.1447e-02,  1.4197e+00,\n",
              "          2.3848e+00, -1.4183e+00,  6.0516e+00, -8.1644e-01,  1.7930e+00,\n",
              "         -2.1995e+00, -5.7878e+00,  2.0441e+00, -2.9721e+00, -2.1205e+00,\n",
              "          7.1457e-04,  7.1209e-01, -2.5314e+00, -4.3199e+00,  7.5132e-01,\n",
              "          1.3169e+00, -1.5380e+00,  3.7637e+00, -3.1252e+00, -2.4441e+00,\n",
              "         -1.5315e+00,  5.4410e+00,  2.5164e+00, -2.3554e+00,  2.3899e+00,\n",
              "          3.7312e+00, -3.5776e-01, -8.7282e-01, -8.6165e-01, -1.4396e+00,\n",
              "          3.0966e-01, -1.8883e-01,  1.0438e+00, -1.1385e+00, -1.3582e+00,\n",
              "          4.3986e-01,  4.2303e-01, -3.3948e+00,  7.3504e-02, -1.1142e+00,\n",
              "          7.1540e-01, -1.7575e+00, -1.5816e+00,  2.6635e+00,  3.5801e-01,\n",
              "          2.6531e+00, -4.8734e-01,  3.7337e-01,  3.2314e-01,  6.2377e+00],\n",
              "        [ 2.8040e+00, -2.5359e+00,  1.9399e-01,  5.8423e+00,  1.1723e+00,\n",
              "          3.7766e+00,  2.2550e+00,  2.9629e-01,  4.0135e+00, -4.2026e+00,\n",
              "         -1.4032e+00,  2.7371e+00, -4.8746e-01,  4.9553e-01, -3.4478e-01,\n",
              "          1.7179e+00, -3.4294e+00, -1.5114e+00, -2.1447e+00,  1.3330e+00,\n",
              "          1.0807e+00, -1.6014e+00, -2.2449e+00,  1.7822e+00, -2.2584e+00,\n",
              "          1.7851e+00,  5.4811e+00, -3.5094e+00, -7.5001e-01,  3.1732e+00,\n",
              "          2.5222e+00,  7.6746e-01,  7.5501e-01, -8.0836e+00, -8.0946e-01,\n",
              "          3.8457e+00,  4.6792e+00, -2.8705e+00,  3.0493e+00, -3.2016e+00,\n",
              "          4.1647e-01, -2.0403e+00, -7.1700e-01,  2.8013e+00, -2.6989e+00,\n",
              "          1.7730e+00, -2.4721e+00, -1.1005e+00,  6.3029e-01, -3.1003e+00,\n",
              "          7.0873e-01,  6.0612e-01,  2.5699e+00, -5.1555e-01,  5.6693e-01,\n",
              "         -1.1029e-01, -3.5990e+00,  1.7084e+00, -6.2748e-01, -3.3206e+00,\n",
              "          1.6453e+00,  1.9051e-01, -3.4069e+00, -1.2723e+00,  2.4333e+00,\n",
              "          1.4428e+00,  1.3604e+00,  4.2974e+00, -2.2697e+00, -3.3004e+00,\n",
              "         -1.9946e+00,  5.5629e+00,  2.1761e+00, -8.5692e-01,  3.2174e+00,\n",
              "          6.7239e+00, -2.9931e+00, -1.2657e+00, -2.7263e-01,  3.0538e-01,\n",
              "          3.9907e-01, -1.1751e-01, -9.1453e-01,  4.6740e-02,  9.6353e-01,\n",
              "          4.9283e+00, -1.0297e+00, -1.2792e+00, -1.0715e+00, -2.3336e+00,\n",
              "          3.0261e+00, -1.6271e+00,  1.0953e+00,  1.2343e+00,  2.3287e+00,\n",
              "          2.8516e+00,  6.0824e-01,  2.6421e+00, -1.4578e+00,  1.4604e+00],\n",
              "        [-5.5887e+00,  8.1839e+00,  5.2264e+00, -1.3752e+00, -8.3426e-01,\n",
              "          7.4140e-01,  2.5781e+00,  4.9722e+00,  2.9094e+00, -3.3348e-01,\n",
              "          1.6132e+00, -4.5907e-01,  2.0956e+00, -1.1084e+00,  7.1040e+00,\n",
              "         -4.2019e-01, -7.0022e+00, -4.0245e+00, -5.9295e-01, -1.2631e+00,\n",
              "         -4.4122e+00, -7.4556e+00, -1.9454e+00, -1.4219e+00,  7.3838e+00,\n",
              "          4.2023e-02,  7.1392e+00,  3.6737e+00, -1.6505e+00, -8.1105e+00,\n",
              "         -1.0713e+00,  4.0601e-01,  5.3069e+00, -1.8506e+00,  3.2134e+00,\n",
              "          2.1079e+00,  3.1703e+00, -3.1534e-01,  1.5784e+00, -1.2225e+00,\n",
              "         -1.6655e+00, -5.1681e+00, -2.9909e+00,  1.5741e+00,  1.5675e+00,\n",
              "          6.2365e+00, -3.6030e+00,  1.8771e-01, -2.8639e+00,  7.8477e+00,\n",
              "          2.3619e+00, -3.0387e+00,  5.4524e+00, -1.3833e-01,  1.9447e+00,\n",
              "         -2.6028e+00, -4.7467e+00,  1.2862e+00,  4.0630e-01, -7.8564e-01,\n",
              "         -2.0453e+00, -4.6074e-01, -3.7933e-01, -5.2590e+00, -5.3727e-01,\n",
              "         -2.0766e+00, -4.9804e+00,  2.9871e+00, -1.0418e+00,  1.1874e+00,\n",
              "          1.0879e-02,  3.0956e+00,  1.1910e+00, -3.3760e+00, -2.4116e+00,\n",
              "         -2.3046e+00,  1.1981e+00, -1.9761e-01, -1.8316e+00, -2.6334e+00,\n",
              "          1.0009e-01,  1.7099e-01,  5.3410e+00, -3.9783e+00, -3.7969e+00,\n",
              "         -3.2171e+00,  3.1451e+00, -4.4000e+00,  1.3034e-01, -3.1327e-02,\n",
              "         -4.3607e+00,  6.8272e-01, -1.6737e-01,  2.1637e+00, -1.0066e+00,\n",
              "          1.6039e+00, -6.8091e-01, -1.3095e+00, -7.1798e-02,  8.7016e+00],\n",
              "        [-2.3947e+00,  6.9518e+00,  7.1450e+00, -3.3060e+00, -5.1545e-01,\n",
              "          6.8911e+00,  5.1654e+00,  8.4459e+00,  2.2111e+00, -7.0815e-01,\n",
              "          3.2207e+00,  1.1575e+00, -1.7200e+00, -5.0042e+00,  2.3154e-01,\n",
              "          4.7084e+00, -7.2683e+00,  1.1923e+00,  1.8676e+00, -4.4267e+00,\n",
              "         -6.9898e+00, -6.4655e+00, -2.7526e+00,  5.2557e+00,  8.0338e+00,\n",
              "          1.3035e+00,  2.5269e+00, -2.6466e-01, -7.3005e+00, -3.1719e+00,\n",
              "          4.6234e-01, -7.8001e+00,  7.5201e+00, -2.5576e+00, -5.4580e-01,\n",
              "          3.9611e+00,  3.5541e+00, -2.4491e+00,  1.2244e+00, -9.7256e-01,\n",
              "         -3.1682e-01, -6.2970e+00,  5.2052e-01, -3.3187e+00, -5.7433e+00,\n",
              "          3.6776e+00, -5.6674e+00,  3.7625e-01,  4.3794e+00, -2.1031e+00,\n",
              "          3.2014e+00, -1.6976e+00,  8.0360e+00, -4.9790e-01,  7.2238e-01,\n",
              "         -3.6512e+00, -4.7871e+00,  1.3102e+00, -1.0866e+01,  4.4015e+00,\n",
              "         -1.4516e-01,  1.7714e+00,  8.9165e-01, -6.7534e+00, -1.1052e+00,\n",
              "          2.8356e+00, -1.2326e+00,  1.2438e-01, -4.2877e+00,  8.2226e-01,\n",
              "         -6.0047e-01,  2.0403e+00,  3.2221e+00, -1.8628e+00,  3.8793e+00,\n",
              "         -1.1618e+00,  5.4349e+00, -1.7318e+00, -7.7721e-05, -8.9127e-01,\n",
              "         -9.4974e-01,  1.2232e-01, -2.3884e+00,  2.5472e-01, -3.2257e+00,\n",
              "         -4.2711e+00,  1.0078e+00, -3.7548e+00,  1.7952e+00,  2.8118e+00,\n",
              "          3.2243e+00, -3.5919e+00, -7.5250e+00,  2.0806e+00, -2.2973e+00,\n",
              "          4.8013e-01, -4.7718e+00, -2.9334e+00,  4.1706e+00,  9.6299e+00],\n",
              "        [-1.5478e-01, -3.7313e-02,  3.1735e+00,  2.3602e+00,  2.3237e+00,\n",
              "          6.6011e+00,  4.1569e+00,  2.5515e+00,  3.6670e+00, -4.8339e+00,\n",
              "         -8.1387e-01,  5.4109e+00, -4.1883e+00, -5.0401e-02, -1.7693e-01,\n",
              "          2.2245e+00, -8.9664e+00, -1.8495e+00, -2.4866e+00, -1.8677e+00,\n",
              "         -1.4062e+00, -7.5386e+00, -6.3610e+00,  2.5327e+00,  6.4928e-01,\n",
              "          2.7910e+00,  6.2914e+00, -3.0175e+00, -5.7540e+00,  1.4372e-01,\n",
              "          2.2015e+00, -1.0961e+00,  8.5914e-01, -7.2048e+00, -5.1121e-01,\n",
              "          1.8132e+00,  7.6865e+00, -4.8759e+00,  3.8656e+00, -1.5409e+00,\n",
              "         -6.3911e-01, -3.0593e+00,  1.3912e+00,  4.8052e+00, -5.5808e+00,\n",
              "          2.6850e+00, -5.8697e+00,  8.3909e-02, -1.2561e+00,  2.7930e-01,\n",
              "          3.2241e+00, -1.1680e+00,  8.5666e+00, -8.4853e-01,  2.5214e+00,\n",
              "         -5.1391e+00, -9.4641e+00,  3.4379e+00, -3.4754e+00, -5.7285e+00,\n",
              "         -8.4821e-02,  1.5429e+00, -6.0102e+00, -4.0377e+00, -1.8237e+00,\n",
              "          4.7538e+00, -1.9203e+00,  4.8420e+00, -5.3276e+00, -7.6728e+00,\n",
              "         -2.6823e+00,  6.9438e+00,  2.2739e+00, -1.9472e+00,  3.0342e+00,\n",
              "          7.6457e+00, -1.5171e+00,  3.8394e-01,  1.5376e+00, -2.7636e+00,\n",
              "          1.9017e+00, -1.1989e+00, -1.0670e+00,  4.4613e-01, -1.1985e+00,\n",
              "          2.4960e+00, -1.5374e+00, -2.2984e+00,  1.6440e+00, -1.5893e+00,\n",
              "          2.9463e+00, -4.7849e+00, -2.3890e+00,  2.9343e+00,  3.2388e-01,\n",
              "          4.8586e+00, -1.1646e+00,  2.1684e+00, -4.0463e+00,  6.2128e+00]])"
            ]
          },
          "metadata": {},
          "execution_count": 31
        }
      ]
    },
    {
      "cell_type": "code",
      "source": [
        "h = torch.tanh(emb.view(emb.shape[0], 6) @ W1 + b1)"
      ],
      "metadata": {
        "id": "vBFf38MZh67h"
      },
      "execution_count": 32,
      "outputs": []
    },
    {
      "cell_type": "code",
      "source": [
        "h.shape"
      ],
      "metadata": {
        "colab": {
          "base_uri": "https://localhost:8080/"
        },
        "id": "qWIKmDJglmar",
        "outputId": "efbd1e5c-86ec-45b0-c114-e91b2254edb8"
      },
      "execution_count": 33,
      "outputs": [
        {
          "output_type": "execute_result",
          "data": {
            "text/plain": [
              "torch.Size([5, 100])"
            ]
          },
          "metadata": {},
          "execution_count": 33
        }
      ]
    },
    {
      "cell_type": "code",
      "source": [
        "W2 = torch.randn((100, 27))\n",
        "b2 = torch.randn(27)"
      ],
      "metadata": {
        "id": "gG1WYqG2mA2g"
      },
      "execution_count": 34,
      "outputs": []
    },
    {
      "cell_type": "code",
      "source": [
        "logits = h @ W2 + b2"
      ],
      "metadata": {
        "id": "y-h26zXMm6nE"
      },
      "execution_count": 35,
      "outputs": []
    },
    {
      "cell_type": "code",
      "source": [
        "logits.shape"
      ],
      "metadata": {
        "colab": {
          "base_uri": "https://localhost:8080/"
        },
        "id": "MIhCRISTnHPD",
        "outputId": "56fb11c4-878a-4bc3-edf5-e5a95a22b2f4"
      },
      "execution_count": 36,
      "outputs": [
        {
          "output_type": "execute_result",
          "data": {
            "text/plain": [
              "torch.Size([5, 27])"
            ]
          },
          "metadata": {},
          "execution_count": 36
        }
      ]
    },
    {
      "cell_type": "code",
      "source": [
        "counts = logits.exp()"
      ],
      "metadata": {
        "id": "TMtAehlDnIci"
      },
      "execution_count": 37,
      "outputs": []
    },
    {
      "cell_type": "code",
      "source": [
        "prob = counts / counts.sum(dim=1, keepdims=True)"
      ],
      "metadata": {
        "id": "f85koJGInKzC"
      },
      "execution_count": 38,
      "outputs": []
    },
    {
      "cell_type": "code",
      "source": [
        "prob.shape"
      ],
      "metadata": {
        "colab": {
          "base_uri": "https://localhost:8080/"
        },
        "id": "a3QdBxISn1Qh",
        "outputId": "5981de37-43d6-4cce-dc9d-64f8b159dd4e"
      },
      "execution_count": 39,
      "outputs": [
        {
          "output_type": "execute_result",
          "data": {
            "text/plain": [
              "torch.Size([5, 27])"
            ]
          },
          "metadata": {},
          "execution_count": 39
        }
      ]
    },
    {
      "cell_type": "markdown",
      "source": [
        "Negative log-likelihood"
      ],
      "metadata": {
        "id": "qZtBY30LogZ7"
      }
    },
    {
      "cell_type": "code",
      "source": [
        "-prob[:, y].log().mean()"
      ],
      "metadata": {
        "colab": {
          "base_uri": "https://localhost:8080/"
        },
        "id": "9wE3PVfon67B",
        "outputId": "64f2eaab-c903-4d5f-a9af-40d75eeaa473"
      },
      "execution_count": 40,
      "outputs": [
        {
          "output_type": "execute_result",
          "data": {
            "text/plain": [
              "tensor(18.5757)"
            ]
          },
          "metadata": {},
          "execution_count": 40
        }
      ]
    },
    {
      "cell_type": "markdown",
      "source": [
        "Putting everything done manually above, in a more iterative and configurable fashion."
      ],
      "metadata": {
        "id": "vbs_SZi_o6La"
      }
    },
    {
      "cell_type": "code",
      "source": [
        "emb = C[X] # (32, 3, 2)\n",
        "h = torch.tanh(emb.view(emb.shape[0], 6) @ W1 + b1)\n",
        "logits = h @ W2 + b2 # (32, 27)\n",
        "# counts = logits.exp()\n",
        "# prob = counts / counts.sum(dim=1, keepdims=True)\n",
        "# loss = -prob[:, y].log().mean()\n",
        "loss = F.cross_entropy(logits, y)"
      ],
      "metadata": {
        "id": "PO9zuUvIpiBq"
      },
      "execution_count": 41,
      "outputs": []
    },
    {
      "cell_type": "code",
      "source": [
        "g = torch.Generator().manual_seed(2147483647)\n",
        "C = torch.randn((27, 10), generator=g)\n",
        "W1 = torch.randn((30, 200), generator=g)\n",
        "b1 = torch.randn(200, generator=g)\n",
        "W2 = torch.randn((200, 27), generator=g)\n",
        "b2 = torch.randn(27, generator=g)\n",
        "parameters = [C, W1, b1, W2, b2]\n",
        "sum(p.nelement() for p in parameters)"
      ],
      "metadata": {
        "colab": {
          "base_uri": "https://localhost:8080/"
        },
        "id": "-RNB8Vjnsggn",
        "outputId": "0616a619-597b-48d6-9d40-f71af087ecdc"
      },
      "execution_count": 44,
      "outputs": [
        {
          "output_type": "execute_result",
          "data": {
            "text/plain": [
              "11897"
            ]
          },
          "metadata": {},
          "execution_count": 44
        }
      ]
    },
    {
      "cell_type": "code",
      "source": [
        "def build_dataset(words):\n",
        "  block_size = 3\n",
        "\n",
        "  X, y = [], []\n",
        "\n",
        "  for w in words:\n",
        "\n",
        "    context = [0] * block_size\n",
        "    for ch in w + '.':\n",
        "      ix = stoi[ch]\n",
        "      X.append(context)\n",
        "      y.append(ix)\n",
        "      context = context[1:] + [ix]\n",
        "\n",
        "  X = torch.tensor(X)\n",
        "  y = torch.tensor(y)\n",
        "\n",
        "  return X, y\n",
        "\n",
        "## added train, val, test splits\n",
        "import random\n",
        "random.seed(42)\n",
        "random.shuffle(words)\n",
        "n1 = int(0.8*len(words))\n",
        "n2 = int(0.9*len(words))\n",
        "\n",
        "Xtr, ytr = build_dataset(words[:n1])\n",
        "Xdev, ydev = build_dataset(words[n1:n2])\n",
        "Xte, yte = build_dataset(words[n2:])"
      ],
      "metadata": {
        "id": "UAWQ77TDsQcK"
      },
      "execution_count": 45,
      "outputs": []
    },
    {
      "cell_type": "code",
      "source": [
        "for p in parameters:\n",
        "  p.requires_grad = True"
      ],
      "metadata": {
        "id": "AkTkkHeNrgd6"
      },
      "execution_count": 46,
      "outputs": []
    },
    {
      "cell_type": "code",
      "source": [
        "lre = torch.linspace(-3, 0, 1000)\n",
        "lrs = 10**lre"
      ],
      "metadata": {
        "collapsed": true,
        "id": "f_r53HnTu_OJ"
      },
      "execution_count": 47,
      "outputs": []
    },
    {
      "cell_type": "code",
      "source": [
        "lri = []\n",
        "lossi = []\n",
        "stepi = []"
      ],
      "metadata": {
        "id": "dGjJMfMCaj6i"
      },
      "execution_count": 48,
      "outputs": []
    },
    {
      "cell_type": "code",
      "source": [
        "\n",
        "for i in range(100000):\n",
        "  ix = torch.randint(0, Xtr.shape[0], (32,))\n",
        "\n",
        "  emb = C[Xtr[ix]] # (32, 3, 2)\n",
        "  h = torch.tanh(emb.view(emb.shape[0], 30) @ W1 + b1)\n",
        "  logits = h @ W2 + b2 # (32, 27)\n",
        "  loss = F.cross_entropy(logits, ytr[ix])\n",
        "\n",
        "  # print(loss.item())\n",
        "  for p in parameters:\n",
        "    p.grad = None\n",
        "\n",
        "  loss.backward()\n",
        "  # lr = lrs[i]\n",
        "  lr = 0.1 if i < 50000 else 0.01 ## the exponent with the lowest loss\n",
        "  for p in parameters:\n",
        "    p.data += -lr * p.grad\n",
        "\n",
        "  # lri.append(lre[i])\n",
        "  # lossi.append(loss.item())\n",
        "  stepi.append(i)\n",
        "  lossi.append(loss.log10().item())\n",
        "\n",
        "  if i % 10000 == 0:\n",
        "    print(f'{i:7d}/{100000:7d}: {loss.item():.4f}')\n",
        "\n",
        "print(loss.item())"
      ],
      "metadata": {
        "colab": {
          "base_uri": "https://localhost:8080/"
        },
        "id": "kneO261kpomh",
        "outputId": "f0c06880-29bb-4e4b-8894-7dbb3a4cbeb6"
      },
      "execution_count": 49,
      "outputs": [
        {
          "output_type": "stream",
          "name": "stdout",
          "text": [
            "      0/ 100000: 25.6711\n",
            "  10000/ 100000: 2.2734\n",
            "  20000/ 100000: 2.8486\n",
            "  30000/ 100000: 2.1523\n",
            "  40000/ 100000: 2.4942\n",
            "  50000/ 100000: 2.2523\n",
            "  60000/ 100000: 2.6155\n",
            "  70000/ 100000: 1.8049\n",
            "  80000/ 100000: 2.0268\n",
            "  90000/ 100000: 1.9459\n",
            "2.326646327972412\n"
          ]
        }
      ]
    },
    {
      "cell_type": "code",
      "source": [
        "# plt.plot(lri, lossi)"
      ],
      "metadata": {
        "colab": {
          "base_uri": "https://localhost:8080/",
          "height": 0
        },
        "collapsed": true,
        "id": "32JXkOKvvlOb",
        "outputId": "555c4346-39a2-46a6-9499-c7cfbaa97333"
      },
      "execution_count": 101,
      "outputs": [
        {
          "output_type": "execute_result",
          "data": {
            "text/plain": [
              "[<matplotlib.lines.Line2D at 0x78ba52ff6590>]"
            ]
          },
          "metadata": {},
          "execution_count": 101
        },
        {
          "output_type": "display_data",
          "data": {
            "text/plain": [
              "<Figure size 640x480 with 1 Axes>"
            ],
            "image/png": "[encoded data removed]"
          },
          "metadata": {}
        }
      ]
    },
    {
      "cell_type": "code",
      "source": [
        "plt.plot(stepi, lossi)"
      ],
      "metadata": {
        "colab": {
          "base_uri": "https://localhost:8080/",
          "height": 447
        },
        "id": "64hX0p7W6FyM",
        "outputId": "b7c31889-95f4-45f3-8080-16ec354eebfc"
      },
      "execution_count": 50,
      "outputs": [
        {
          "output_type": "execute_result",
          "data": {
            "text/plain": [
              "[<matplotlib.lines.Line2D at 0x7bb702b89950>]"
            ]
          },
          "metadata": {},
          "execution_count": 50
        },
        {
          "output_type": "display_data",
          "data": {
            "text/plain": [
              "<Figure size 640x480 with 1 Axes>"
            ],
            "image/png": "[encoded data removed]"
          },
          "metadata": {}
        }
      ]
    },
    {
      "cell_type": "code",
      "source": [
        "emb = C[Xdev] # (32, 3, 2)\n",
        "h = torch.tanh(emb.view(emb.shape[0], 30) @ W1 + b1)\n",
        "logits = h @ W2 + b2 # (32, 27)\n",
        "loss = F.cross_entropy(logits, ydev)\n",
        "loss"
      ],
      "metadata": {
        "colab": {
          "base_uri": "https://localhost:8080/"
        },
        "id": "8UvnbpOWtBN9",
        "outputId": "580865eb-5ddf-4493-b0dc-20016f98c158"
      },
      "execution_count": 51,
      "outputs": [
        {
          "output_type": "execute_result",
          "data": {
            "text/plain": [
              "tensor(2.2050, grad_fn=<NllLossBackward0>)"
            ]
          },
          "metadata": {},
          "execution_count": 51
        }
      ]
    },
    {
      "cell_type": "code",
      "source": [
        "logits.max(1)"
      ],
      "metadata": {
        "colab": {
          "base_uri": "https://localhost:8080/"
        },
        "id": "4vmwQV8cz-E0",
        "outputId": "db5608a2-f137-48f7-a23b-3b832c6758d5"
      },
      "execution_count": 52,
      "outputs": [
        {
          "output_type": "execute_result",
          "data": {
            "text/plain": [
              "torch.return_types.max(\n",
              "values=tensor([ 0.4925,  2.3632,  2.9848,  ...,  6.9310, 10.4568,  8.4291],\n",
              "       grad_fn=<MaxBackward0>),\n",
              "indices=tensor([ 1, 14,  1,  ..., 12,  5, 14]))"
            ]
          },
          "metadata": {},
          "execution_count": 52
        }
      ]
    },
    {
      "cell_type": "code",
      "source": [
        "ydev"
      ],
      "metadata": {
        "colab": {
          "base_uri": "https://localhost:8080/"
        },
        "id": "mfFszo870hCq",
        "outputId": "b6ddaddb-1024-41ee-c438-5dc57c60317c"
      },
      "execution_count": 53,
      "outputs": [
        {
          "output_type": "execute_result",
          "data": {
            "text/plain": [
              "tensor([ 1, 13,  1,  ..., 12,  1,  0])"
            ]
          },
          "metadata": {},
          "execution_count": 53
        }
      ]
    },
    {
      "cell_type": "code",
      "source": [
        "plt.figure(figsize=(8,8))\n",
        "plt.scatter(C[:,0].data, C[:,1].data, s=200)\n",
        "for i in range(C.shape[0]):\n",
        "  plt.text(C[i,0].item(), C[i,1].item(), itos[i], ha='center', va='center', color='white')\n",
        "plt.grid('minor')"
      ],
      "metadata": {
        "colab": {
          "base_uri": "https://localhost:8080/",
          "height": 676
        },
        "id": "4NzACu-WbH5P",
        "outputId": "e0bc5f19-eafc-4766-dc74-2bcb6beb178e"
      },
      "execution_count": 54,
      "outputs": [
        {
          "output_type": "display_data",
          "data": {
            "text/plain": [
              "<Figure size 800x800 with 1 Axes>"
            ],
            "image/png": "[encoded data removed]"
          },
          "metadata": {}
        }
      ]
    },
    {
      "cell_type": "markdown",
      "source": [
        "Sampling from the model"
      ],
      "metadata": {
        "id": "hh90_DV8eXzV"
      }
    },
    {
      "cell_type": "code",
      "source": [
        "\n",
        "g = torch.Generator().manual_seed(2147483647+10)\n",
        "\n",
        "for _ in range(20):\n",
        "  out = []\n",
        "  context = [0] * block_size\n",
        "  while True:\n",
        "    emb = C[torch.tensor([context])] # (1, block_size, d)\n",
        "    h = torch.tanh(emb.view(1, -1) @ W1 + b1)\n",
        "    logits = h @ W2 + b2\n",
        "    probs = F.softmax(logits, dim=1)\n",
        "    ix = torch.multinomial(probs, num_samples=1, replacement=True, generator=g).item()\n",
        "    context = context[1:] + [ix]\n",
        "    out.append(ix)\n",
        "    if ix == 0:\n",
        "      break\n",
        "  print(''.join(itos[i] for i in out))"
      ],
      "metadata": {
        "colab": {
          "base_uri": "https://localhost:8080/"
        },
        "id": "8zEnfXWAbWCB",
        "outputId": "883a94ac-6b47-46f6-aef4-ad763e3fff49"
      },
      "execution_count": 55,
      "outputs": [
        {
          "output_type": "stream",
          "name": "stdout",
          "text": [
            "mora.\n",
            "amyannieel.\n",
            "nihahala.\n",
            "emmancendrajo.\n",
            "aderydoelin.\n",
            "shy.\n",
            "jen.\n",
            "edensenna.\n",
            "araelyn.\n",
            "malaia.\n",
            "noshibergiagriest.\n",
            "jairendy.\n",
            "pxnterianu.\n",
            "zen.\n",
            "dariyah.\n",
            "faehs.\n",
            "kaysh.\n",
            "stella.\n",
            "hil.\n",
            "aadyansuf.\n"
          ]
        }
      ]
    }
  ]
}